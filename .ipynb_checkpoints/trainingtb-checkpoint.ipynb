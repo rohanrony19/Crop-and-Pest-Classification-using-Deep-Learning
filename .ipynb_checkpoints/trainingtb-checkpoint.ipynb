{
 "cells": [
  {
   "cell_type": "code",
   "execution_count": 1,
   "id": "b84c8c80",
   "metadata": {
    "papermill": {
     "duration": 6.930437,
     "end_time": "2024-05-03T03:45:06.180966",
     "exception": false,
     "start_time": "2024-05-03T03:44:59.250529",
     "status": "completed"
    },
    "pycharm": {
     "name": "#%%\n"
    },
    "tags": []
   },
   "outputs": [],
   "source": [
    "import tensorflow as tf\n",
    "from tensorflow.keras.layers import Dense, Conv2D, MaxPooling2D, Flatten, Activation, Dropout, BatchNormalization\n",
    "from tensorflow.keras.optimizers import RMSprop, Adam\n",
    "from tensorflow.keras.preprocessing.image import ImageDataGenerator\n",
    "from PIL import Image\n",
    "from skimage import transform"
   ]
  },
  {
   "cell_type": "code",
   "execution_count": 2,
   "id": "40e36436",
   "metadata": {
    "collapsed": false,
    "jupyter": {
     "outputs_hidden": false
    },
    "papermill": {
     "duration": 0.018236,
     "end_time": "2024-05-03T03:45:06.210885",
     "exception": false,
     "start_time": "2024-05-03T03:45:06.192649",
     "status": "completed"
    },
    "pycharm": {
     "name": "#%%\n"
    },
    "tags": []
   },
   "outputs": [],
   "source": [
    "photo_size=224"
   ]
  },
  {
   "cell_type": "code",
   "execution_count": 3,
   "id": "1e80c0ff",
   "metadata": {
    "collapsed": false,
    "jupyter": {
     "outputs_hidden": false
    },
    "papermill": {
     "duration": 0.020653,
     "end_time": "2024-05-03T03:45:06.242690",
     "exception": false,
     "start_time": "2024-05-03T03:45:06.222037",
     "status": "completed"
    },
    "pycharm": {
     "name": "#%%\n"
    },
    "tags": []
   },
   "outputs": [],
   "source": [
    "def prepare_dataset(data_dir):\n",
    "    datagen = ImageDataGenerator(\n",
    "        rescale= 1/255,\n",
    "        rotation_range=40,\n",
    "        width_shift_range=.2,\n",
    "        height_shift_range=.2,\n",
    "        shear_range=.1,\n",
    "        horizontal_flip=True,\n",
    "        fill_mode='nearest',\n",
    "        zoom_range=.2,\n",
    "    )\n",
    "    generator = datagen.flow_from_directory(\n",
    "        data_dir,\n",
    "        target_size=(photo_size,photo_size),\n",
    "        class_mode='binary',\n",
    "        batch_size=128,\n",
    "        classes=['Ants','Bees','Beetle','Catterpillar','Earthworms','Earwig','Grasshopper','Moth','Slug','Snail','Wasp','Weevil']\n",
    "    )\n",
    "    return generator"
   ]
  },
  {
   "cell_type": "code",
   "execution_count": 4,
   "id": "3571bc98",
   "metadata": {
    "collapsed": false,
    "jupyter": {
     "outputs_hidden": false
    },
    "papermill": {
     "duration": 1.193703,
     "end_time": "2024-05-03T03:45:07.447439",
     "exception": false,
     "start_time": "2024-05-03T03:45:06.253736",
     "status": "completed"
    },
    "pycharm": {
     "name": "#%%\n"
    },
    "tags": []
   },
   "outputs": [
    {
     "name": "stdout",
     "output_type": "stream",
     "text": [
      "Found 2986 images belonging to 12 classes.\n",
      "Found 2986 images belonging to 12 classes.\n",
      "Found 2986 images belonging to 12 classes.\n"
     ]
    }
   ],
   "source": [
    "train_data=prepare_dataset('train/')\n",
    "validation_data = prepare_dataset('val/')\n",
    "test_data=prepare_dataset('test/')"
   ]
  },
  {
   "cell_type": "code",
   "execution_count": 5,
   "id": "8918fcad",
   "metadata": {
    "collapsed": false,
    "jupyter": {
     "outputs_hidden": false
    },
    "papermill": {
     "duration": 0.023632,
     "end_time": "2024-05-03T03:45:07.482650",
     "exception": false,
     "start_time": "2024-05-03T03:45:07.459018",
     "status": "completed"
    },
    "pycharm": {
     "name": "#%%\n"
    },
    "tags": []
   },
   "outputs": [
    {
     "data": {
      "text/plain": [
       "{'Ants': 0,\n",
       " 'Bees': 1,\n",
       " 'Beetle': 2,\n",
       " 'Catterpillar': 3,\n",
       " 'Earthworms': 4,\n",
       " 'Earwig': 5,\n",
       " 'Grasshopper': 6,\n",
       " 'Moth': 7,\n",
       " 'Slug': 8,\n",
       " 'Snail': 9,\n",
       " 'Wasp': 10,\n",
       " 'Weevil': 11}"
      ]
     },
     "execution_count": 5,
     "metadata": {},
     "output_type": "execute_result"
    }
   ],
   "source": [
    "validation_data.class_indices"
   ]
  },
  {
   "cell_type": "code",
   "execution_count": 6,
   "id": "7b75611b",
   "metadata": {
    "collapsed": false,
    "jupyter": {
     "outputs_hidden": false
    },
    "papermill": {
     "duration": 0.022371,
     "end_time": "2024-05-03T03:45:07.516812",
     "exception": false,
     "start_time": "2024-05-03T03:45:07.494441",
     "status": "completed"
    },
    "pycharm": {
     "name": "#%%\n"
    },
    "tags": []
   },
   "outputs": [],
   "source": [
    "# example of tending the vgg16 model\n",
    "def create_vgg_model():\n",
    "    from keras.applications.vgg16 import VGG16\n",
    "    from keras.models import Model\n",
    "    from keras.layers import Dense\n",
    "    from keras.layers import Flatten\n",
    "    # load model without classifier layers\n",
    "    model = VGG16(include_top=False, input_shape=(photo_size, photo_size, 3))\n",
    "    for layer_idx in range(len(model.layers)):\n",
    "        if layer_idx not in [1,2,3,15,16,17,18]:\n",
    "            model.layers[layer_idx].trainable = False\n",
    "    # add new classifier layers\n",
    "    flat1 = Flatten()(model.layers[-1].output)\n",
    "    class1 = Dense(256, activation='relu')(flat1)\n",
    "    output = Dense(95, activation='softmax')(class1)\n",
    "    # define new model\n",
    "    model = Model(inputs=model.inputs, outputs=output)\n",
    "    return model"
   ]
  },
  {
   "cell_type": "code",
   "execution_count": 7,
   "id": "f899a7ab",
   "metadata": {
    "collapsed": false,
    "jupyter": {
     "outputs_hidden": false
    },
    "papermill": {
     "duration": 4.696403,
     "end_time": "2024-05-03T03:45:12.224994",
     "exception": false,
     "start_time": "2024-05-03T03:45:07.528591",
     "status": "completed"
    },
    "pycharm": {
     "name": "#%%\n"
    },
    "tags": []
   },
   "outputs": [
    {
     "name": "stdout",
     "output_type": "stream",
     "text": [
      "Model: \"model\"\n",
      "_________________________________________________________________\n",
      " Layer (type)                Output Shape              Param #   \n",
      "=================================================================\n",
      " input_1 (InputLayer)        [(None, 224, 224, 3)]     0         \n",
      "                                                                 \n",
      " block1_conv1 (Conv2D)       (None, 224, 224, 64)      1792      \n",
      "                                                                 \n",
      " block1_conv2 (Conv2D)       (None, 224, 224, 64)      36928     \n",
      "                                                                 \n",
      " block1_pool (MaxPooling2D)  (None, 112, 112, 64)      0         \n",
      "                                                                 \n",
      " block2_conv1 (Conv2D)       (None, 112, 112, 128)     73856     \n",
      "                                                                 \n",
      " block2_conv2 (Conv2D)       (None, 112, 112, 128)     147584    \n",
      "                                                                 \n",
      " block2_pool (MaxPooling2D)  (None, 56, 56, 128)       0         \n",
      "                                                                 \n",
      " block3_conv1 (Conv2D)       (None, 56, 56, 256)       295168    \n",
      "                                                                 \n",
      " block3_conv2 (Conv2D)       (None, 56, 56, 256)       590080    \n",
      "                                                                 \n",
      " block3_conv3 (Conv2D)       (None, 56, 56, 256)       590080    \n",
      "                                                                 \n",
      " block3_pool (MaxPooling2D)  (None, 28, 28, 256)       0         \n",
      "                                                                 \n",
      " block4_conv1 (Conv2D)       (None, 28, 28, 512)       1180160   \n",
      "                                                                 \n",
      " block4_conv2 (Conv2D)       (None, 28, 28, 512)       2359808   \n",
      "                                                                 \n",
      " block4_conv3 (Conv2D)       (None, 28, 28, 512)       2359808   \n",
      "                                                                 \n",
      " block4_pool (MaxPooling2D)  (None, 14, 14, 512)       0         \n",
      "                                                                 \n",
      " block5_conv1 (Conv2D)       (None, 14, 14, 512)       2359808   \n",
      "                                                                 \n",
      " block5_conv2 (Conv2D)       (None, 14, 14, 512)       2359808   \n",
      "                                                                 \n",
      " block5_conv3 (Conv2D)       (None, 14, 14, 512)       2359808   \n",
      "                                                                 \n",
      " block5_pool (MaxPooling2D)  (None, 7, 7, 512)         0         \n",
      "                                                                 \n",
      " flatten (Flatten)           (None, 25088)             0         \n",
      "                                                                 \n",
      " dense (Dense)               (None, 256)               6422784   \n",
      "                                                                 \n",
      " dense_1 (Dense)             (None, 95)                24415     \n",
      "                                                                 \n",
      "=================================================================\n",
      "Total params: 21161887 (80.73 MB)\n",
      "Trainable params: 13565343 (51.75 MB)\n",
      "Non-trainable params: 7596544 (28.98 MB)\n",
      "_________________________________________________________________\n"
     ]
    }
   ],
   "source": [
    "vgg_model=create_vgg_model()\n",
    "vgg_model.summary()"
   ]
  },
  {
   "cell_type": "code",
   "execution_count": null,
   "id": "d5696099",
   "metadata": {
    "papermill": {
     "duration": 3912.90126,
     "end_time": "2024-05-03T04:50:25.139006",
     "exception": false,
     "start_time": "2024-05-03T03:45:12.237746",
     "status": "completed"
    },
    "tags": []
   },
   "outputs": [
    {
     "name": "stdout",
     "output_type": "stream",
     "text": [
      "Epoch 1/10\n",
      "24/24 [==============================] - 3178s 133s/step - loss: 3.3841 - accuracy: 0.0864 - val_loss: 2.5556 - val_accuracy: 0.0911\n",
      "Epoch 2/10\n",
      "24/24 [==============================] - 3121s 131s/step - loss: 2.5270 - accuracy: 0.0871 - val_loss: 2.4901 - val_accuracy: 0.0861\n",
      "Epoch 3/10\n",
      " 4/24 [====>.........................] - ETA: 35:40 - loss: 2.4991 - accuracy: 0.0918"
     ]
    }
   ],
   "source": [
    "vgg_model.compile(optimizer=Adam(learning_rate=0.001), loss='sparse_categorical_crossentropy', metrics=['accuracy'])\n",
    "vgghist=vgg_model.fit(\n",
    "    train_data,\n",
    "    epochs=10,\n",
    "    validation_data=validation_data\n",
    ")\n",
    "vgg_model.save(\"pest.h5\")"
   ]
  },
  {
   "cell_type": "code",
   "execution_count": 9,
   "id": "8b695806",
   "metadata": {
    "execution": {
     "iopub.execute_input": "2024-05-03T04:50:25.491723Z",
     "iopub.status.busy": "2024-05-03T04:50:25.491315Z",
     "iopub.status.idle": "2024-05-03T04:50:25.745623Z",
     "shell.execute_reply": "2024-05-03T04:50:25.744389Z"
    },
    "papermill": {
     "duration": 0.436843,
     "end_time": "2024-05-03T04:50:25.748113",
     "exception": false,
     "start_time": "2024-05-03T04:50:25.311270",
     "status": "completed"
    },
    "tags": []
   },
   "outputs": [
    {
     "data": {
      "image/png": "[encoded data removed]",
      "text/plain": [
       "<Figure size 432x288 with 1 Axes>"
      ]
     },
     "metadata": {
      "needs_background": "light"
     },
     "output_type": "display_data"
    }
   ],
   "source": [
    "import matplotlib.pyplot as plt\n",
    "import numpy as np\n",
    "%matplotlib inline\n",
    "\n",
    "# create data\n",
    "x=[]\n",
    "for i in range(1,101):\n",
    "    x.append(i)\n",
    "\n",
    "# plot lines\n",
    "plt.xlabel(\"Epochs\")\n",
    "plt.ylabel(\"Accuracy (%)\")\n",
    "plt.plot(x, vgghist.history['accuracy'], label = \"VGG-16 Model Training\", linestyle=\"-\")\n",
    "plt.plot(x, vgghist.history['val_accuracy'], label = \"VGG-16 Model Validation\", linestyle=\"-\")\n",
    "plt.legend()\n",
    "plt.show()"
   ]
  },
  {
   "cell_type": "code",
   "execution_count": 10,
   "id": "a49c74e4",
   "metadata": {
    "collapsed": false,
    "execution": {
     "iopub.execute_input": "2024-05-03T04:50:26.114266Z",
     "iopub.status.busy": "2024-05-03T04:50:26.113878Z",
     "iopub.status.idle": "2024-05-03T04:50:41.434718Z",
     "shell.execute_reply": "2024-05-03T04:50:41.433803Z"
    },
    "jupyter": {
     "outputs_hidden": false
    },
    "papermill": {
     "duration": 15.501171,
     "end_time": "2024-05-03T04:50:41.436770",
     "exception": false,
     "start_time": "2024-05-03T04:50:25.935599",
     "status": "completed"
    },
    "pycharm": {
     "is_executing": true,
     "name": "#%%\n"
    },
    "tags": []
   },
   "outputs": [
    {
     "name": "stdout",
     "output_type": "stream",
     "text": [
      "3/3 [==============================] - 13s 5s/step - loss: 0.4145 - accuracy: 0.8400\n"
     ]
    },
    {
     "data": {
      "text/plain": [
       "[0.41447508335113525, 0.8399999737739563]"
      ]
     },
     "execution_count": 10,
     "metadata": {},
     "output_type": "execute_result"
    }
   ],
   "source": [
    "vgg_model.evaluate(test_data)"
   ]
  }
 ],
 "metadata": {
  "kaggle": {
   "accelerator": "nvidiaTeslaT4",
   "dataSources": [
    {
     "datasetId": 1997065,
     "sourceId": 3301539,
     "sourceType": "datasetVersion"
    }
   ],
   "dockerImageVersionId": 30204,
   "isGpuEnabled": true,
   "isInternetEnabled": true,
   "language": "python",
   "sourceType": "notebook"
  },
  "kernelspec": {
   "display_name": "Python 3 (ipykernel)",
   "language": "python",
   "name": "python3"
  },
  "language_info": {
   "codemirror_mode": {
    "name": "ipython",
    "version": 3
   },
   "file_extension": ".py",
   "mimetype": "text/x-python",
   "name": "python",
   "nbconvert_exporter": "python",
   "pygments_lexer": "ipython3",
   "version": "3.10.4"
  },
  "papermill": {
   "default_parameters": {},
   "duration": 15081.846882,
   "end_time": "2024-05-03T07:56:11.689601",
   "environment_variables": {},
   "exception": null,
   "input_path": "__notebook__.ipynb",
   "output_path": "__notebook__.ipynb",
   "parameters": {},
   "start_time": "2024-05-03T03:44:49.842719",
   "version": "2.3.4"
  }
 },
 "nbformat": 4,
 "nbformat_minor": 5
}
